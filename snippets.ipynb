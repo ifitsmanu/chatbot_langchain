{
 "cells": [
  {
   "cell_type": "code",
   "execution_count": null,
   "metadata": {},
   "outputs": [],
   "source": [
    "# add a summary to the summary table\n",
    "\n",
    "summary_table.put_item(\n",
    "    Item={\n",
    "        \"SessionId\": \"3\",\n",
    "        \"Summary\": \"The AI doesn't have much to say.\",\n",
    "    }\n",
    ")\n",
    "\n",
    "# get the summary from the summary table\n",
    "\n",
    "response = summary_table.get_item(Key={\"SessionId\": \"3\"})\n",
    "print(response[\"Item\"][\"Summary\"])"
   ]
  },
  {
   "cell_type": "code",
   "execution_count": null,
   "metadata": {},
   "outputs": [],
   "source": [
    "# delete the summary from the summary table\n",
    "\n",
    "summary_table.delete_item(Key={\"SessionId\": \"2\"})\n",
    "session_table.delete_item(Key={\"SessionId\": \"2\"})"
   ]
  }
 ],
 "metadata": {
  "language_info": {
   "name": "python"
  },
  "orig_nbformat": 4
 },
 "nbformat": 4,
 "nbformat_minor": 2
}
