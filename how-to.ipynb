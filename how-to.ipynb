{
 "cells": [
  {
   "cell_type": "code",
   "execution_count": 1,
   "metadata": {},
   "outputs": [],
   "source": [
    "# install all required packages for the project using requirements.txt\n",
    "\n",
    "# !pip install -r src/requirements.txt"
   ]
  },
  {
   "cell_type": "markdown",
   "metadata": {},
   "source": [
    "Once all reuired dependencies are installed, set up aws cli and configure it with your aws account credentials.\n"
   ]
  },
  {
   "cell_type": "code",
   "execution_count": 66,
   "metadata": {},
   "outputs": [],
   "source": [
    "# import all required modules\n",
    "\n",
    "import boto3\n",
    "import json\n",
    "from langchain.memory.chat_message_histories import DynamoDBChatMessageHistory\n",
    "from langchain.memory.chat_message_histories import DynamoDBChatMessageHistory\n",
    "from langchain.chat_models import ChatOpenAI\n",
    "from langchain.chains import ConversationChain\n",
    "from langchain.memory.chat_message_histories import DynamoDBChatMessageHistory\n",
    "from langchain.memory import (\n",
    "    ConversationSummaryBufferMemory,\n",
    "    CombinedMemory,\n",
    "    ConversationBufferWindowMemory,\n",
    ")\n",
    "from langchain.prompts import PromptTemplate"
   ]
  },
  {
   "cell_type": "code",
   "execution_count": 2,
   "metadata": {},
   "outputs": [],
   "source": [
    "# Create a session using the credentials from the .credentials file\n",
    "session = boto3.Session()\n",
    "\n",
    "# Get the service resource.\n",
    "dynamodb = session.resource(\"dynamodb\", region_name=\"us-east-1\")\n",
    "\n",
    "# Create a client for the Lambda service\n",
    "\n",
    "lambda_client = session.client(\"lambda\", region_name=\"us-east-1\")"
   ]
  },
  {
   "cell_type": "code",
   "execution_count": 9,
   "metadata": {},
   "outputs": [
    {
     "name": "stdout",
     "output_type": "stream",
     "text": [
      "Session Table already exists\n"
     ]
    }
   ],
   "source": [
    "# Create SessionTable and SessionSummaryTable to Store User Chats and Summaries of Chats respectively.\n",
    "\n",
    "# create only if not exists\n",
    "\n",
    "try:\n",
    "    session_table = dynamodb.create_table(\n",
    "        TableName=\"SessionTable\",\n",
    "        KeySchema=[{\"AttributeName\": \"SessionId\", \"KeyType\": \"HASH\"}],\n",
    "        AttributeDefinitions=[{\"AttributeName\": \"SessionId\", \"AttributeType\": \"S\"}],\n",
    "        BillingMode=\"PAY_PER_REQUEST\",\n",
    "    )\n",
    "except Exception as e:\n",
    "    # print(e)\n",
    "    print(\"Session Table already exists\")"
   ]
  },
  {
   "cell_type": "code",
   "execution_count": 6,
   "metadata": {},
   "outputs": [
    {
     "name": "stdout",
     "output_type": "stream",
     "text": [
      "SessionSummaryTable already exists\n"
     ]
    }
   ],
   "source": [
    "try:\n",
    "    summary_table = dynamodb.create_table(\n",
    "        TableName=\"SessionSummaryTable\",\n",
    "        KeySchema=[{\"AttributeName\": \"SessionId\", \"KeyType\": \"HASH\"}],\n",
    "        AttributeDefinitions=[{\"AttributeName\": \"SessionId\", \"AttributeType\": \"S\"}],\n",
    "        BillingMode=\"PAY_PER_REQUEST\",\n",
    "    )\n",
    "except Exception as e:\n",
    "    # print(e)\n",
    "    print(\"SessionSummaryTable already exists\")"
   ]
  },
  {
   "cell_type": "code",
   "execution_count": 11,
   "metadata": {},
   "outputs": [],
   "source": [
    "session_table = dynamodb.Table(\"SessionTable\")\n",
    "summary_table = dynamodb.Table(\"SessionSummaryTable\")"
   ]
  },
  {
   "cell_type": "code",
   "execution_count": 12,
   "metadata": {},
   "outputs": [],
   "source": [
    "# wait until both the tables are created\n",
    "\n",
    "session_table.meta.client.get_waiter(\"table_exists\").wait(TableName=\"SessionTable\")\n",
    "summary_table.meta.client.get_waiter(\"table_exists\").wait(\n",
    "    TableName=\"SessionSummaryTable\"\n",
    ")"
   ]
  },
  {
   "cell_type": "code",
   "execution_count": 13,
   "metadata": {},
   "outputs": [],
   "source": [
    "# create a LLM\n",
    "\n",
    "llm = ChatOpenAI(temperature=0)"
   ]
  },
  {
   "cell_type": "code",
   "execution_count": 77,
   "metadata": {},
   "outputs": [],
   "source": [
    "# define constants\n",
    "\n",
    "# session id. This is the id of the user who is chatting with the bot.\n",
    "session_id = \"3\"\n",
    "\n",
    "# define how many recent conversations to be sent to the OPENAI API\n",
    "\n",
    "num_recent_conversations = 10\n",
    "\n",
    "# define token limit for the summary.\n",
    "\n",
    "summary_token_limit = 100"
   ]
  },
  {
   "cell_type": "code",
   "execution_count": 87,
   "metadata": {},
   "outputs": [],
   "source": [
    "# create a memory object that pulls latest num_recent_conversations from the dynamodb table\n",
    "\n",
    "message_history = DynamoDBChatMessageHistory(\n",
    "    table_name=\"SessionTable\", session_id=session_id\n",
    ")\n",
    "\n",
    "conv_memory = ConversationBufferWindowMemory(\n",
    "    chat_memory=message_history,\n",
    "    k=num_recent_conversations,\n",
    "    input_key=\"input\",\n",
    "    memory_key=\"chat_history_lines\",\n",
    ")"
   ]
  },
  {
   "cell_type": "code",
   "execution_count": 88,
   "metadata": {},
   "outputs": [],
   "source": [
    "# create another memory object that is initialized with the existing summary of the conversation\n",
    "\n",
    "response = summary_table.get_item(Key={\"SessionId\": session_id})\n",
    "\n",
    "if response and \"Item\" in response:\n",
    "    summary = response[\"Item\"][\"Summary\"]\n",
    "else:\n",
    "    summary = \"\"\n",
    "summary_memory = ConversationSummaryBufferMemory(\n",
    "    llm=ChatOpenAI(temperature=0),\n",
    "    memory_key=\"summary\",\n",
    "    moving_summary_buffer=summary,\n",
    "    max_token_limit=summary_token_limit,\n",
    "    input_key=\"input\",\n",
    ")"
   ]
  },
  {
   "cell_type": "code",
   "execution_count": 89,
   "metadata": {},
   "outputs": [],
   "source": [
    "# create a combined memory object that combines the above two memories\n",
    "\n",
    "memory = CombinedMemory(memories=[conv_memory, summary_memory])"
   ]
  },
  {
   "cell_type": "code",
   "execution_count": 92,
   "metadata": {},
   "outputs": [],
   "source": [
    "_DEFAULT_TEMPLATE = \"\"\"The following is a friendly conversation between a human and an AI. The AI is talkative and provides lots of specific details from its context. If the AI does not know the answer to a question, it truthfully says it does not know.\n",
    "\n",
    "Summary of conversation:\n",
    "{summary}\n",
    "Current conversation:\n",
    "{chat_history_lines}\n",
    "Human: {input}\n",
    "AI:\"\"\"\n",
    "\n",
    "prompt = PromptTemplate(\n",
    "    input_variables=[\"summary\", \"chat_history_lines\", \"input\"],\n",
    "    template=_DEFAULT_TEMPLATE,\n",
    ")\n",
    "\n",
    "# create a conversation chain object\n",
    "\n",
    "conversation = ConversationChain(llm=llm, verbose=True, memory=memory, prompt=prompt)"
   ]
  },
  {
   "cell_type": "code",
   "execution_count": 93,
   "metadata": {},
   "outputs": [
    {
     "data": {
      "text/plain": [
       "{'chat_history_lines': '', 'summary': ''}"
      ]
     },
     "execution_count": 93,
     "metadata": {},
     "output_type": "execute_result"
    }
   ],
   "source": [
    "memory.load_memory_variables({})"
   ]
  },
  {
   "cell_type": "code",
   "execution_count": 94,
   "metadata": {},
   "outputs": [
    {
     "name": "stdout",
     "output_type": "stream",
     "text": [
      "\n",
      "\n",
      "\u001b[1m> Entering new ConversationChain chain...\u001b[0m\n",
      "Prompt after formatting:\n",
      "\u001b[32;1m\u001b[1;3mThe following is a friendly conversation between a human and an AI. The AI is talkative and provides lots of specific details from its context. If the AI does not know the answer to a question, it truthfully says it does not know.\n",
      "\n",
      "Summary of conversation:\n",
      "\n",
      "Current conversation:\n",
      "\n",
      "Human: Hello\n",
      "AI:\u001b[0m\n",
      "\n",
      "\u001b[1m> Finished chain.\u001b[0m\n"
     ]
    },
    {
     "data": {
      "text/plain": [
       "'Hello there! How can I assist you today?'"
      ]
     },
     "execution_count": 94,
     "metadata": {},
     "output_type": "execute_result"
    }
   ],
   "source": [
    "conversation.predict(input=\"Hello\")"
   ]
  },
  {
   "cell_type": "code",
   "execution_count": 101,
   "metadata": {},
   "outputs": [
    {
     "name": "stdout",
     "output_type": "stream",
     "text": [
      "\n",
      "\n",
      "\u001b[1m> Entering new ConversationChain chain...\u001b[0m\n",
      "Prompt after formatting:\n",
      "\u001b[32;1m\u001b[1;3mThe following is a friendly conversation between a human and an AI. The AI is talkative and provides lots of specific details from its context. If the AI does not know the answer to a question, it truthfully says it does not know.\n",
      "\n",
      "Summary of conversation:\n",
      "System: Adam introduces himself to the AI and the AI offers assistance. The AI asks if there is anything specific Adam needs help with and Adam responds that he needs help with his taxes.\n",
      "AI: Of course, Adam! I can definitely help you with that. Do you have any specific questions or concerns about your taxes? It's important to note that I am not a licensed tax professional, but I can provide general information and guidance based on my knowledge and resources.\n",
      "Human: Hello, my name is Adam.\n",
      "AI: Hello again, Adam! Is there anything specific you need help with today?\n",
      "Current conversation:\n",
      "Human: Hello\n",
      "AI: Hello there! How can I assist you today?\n",
      "Human: Hello, my name is Adam.\n",
      "AI: Nice to meet you, Adam! Is there anything specific you would like me to help you with?\n",
      "Human: I'm looking for help with my taxes.\n",
      "AI: Of course, Adam! I can definitely help you with that. Do you have any specific questions or concerns about your taxes? It's important to note that I am not a licensed tax professional, but I can provide general information and guidance based on my knowledge and resources.\n",
      "Human: Hello, my name is Adam.\n",
      "AI: Hello again, Adam! Is there anything specific you need help with today?\n",
      "Human: Hello, my name is Adam.\n",
      "AI:\u001b[0m\n",
      "\n",
      "\u001b[1m> Finished chain.\u001b[0m\n"
     ]
    }
   ],
   "source": [
    "answer = conversation.predict(input=\"Hello, my name is Adam.\")"
   ]
  },
  {
   "cell_type": "code",
   "execution_count": 103,
   "metadata": {},
   "outputs": [
    {
     "data": {
      "text/plain": [
       "str"
      ]
     },
     "execution_count": 103,
     "metadata": {},
     "output_type": "execute_result"
    }
   ],
   "source": [
    "type(answer)"
   ]
  },
  {
   "cell_type": "code",
   "execution_count": 96,
   "metadata": {},
   "outputs": [
    {
     "name": "stdout",
     "output_type": "stream",
     "text": [
      "\n",
      "\n",
      "\u001b[1m> Entering new ConversationChain chain...\u001b[0m\n",
      "Prompt after formatting:\n",
      "\u001b[32;1m\u001b[1;3mThe following is a friendly conversation between a human and an AI. The AI is talkative and provides lots of specific details from its context. If the AI does not know the answer to a question, it truthfully says it does not know.\n",
      "\n",
      "Summary of conversation:\n",
      "Human: Hello\n",
      "AI: Hello there! How can I assist you today?\n",
      "Human: Hello, my name is Adam.\n",
      "AI: Nice to meet you, Adam! Is there anything specific you would like me to help you with?\n",
      "Current conversation:\n",
      "Human: Hello\n",
      "AI: Hello there! How can I assist you today?\n",
      "Human: Hello, my name is Adam.\n",
      "AI: Nice to meet you, Adam! Is there anything specific you would like me to help you with?\n",
      "Human: I'm looking for help with my taxes.\n",
      "AI:\u001b[0m\n",
      "\n",
      "\u001b[1m> Finished chain.\u001b[0m\n"
     ]
    },
    {
     "data": {
      "text/plain": [
       "\"Of course, Adam! I can definitely help you with that. Do you have any specific questions or concerns about your taxes? It's important to note that I am not a licensed tax professional, but I can provide general information and guidance based on my knowledge and resources.\""
      ]
     },
     "execution_count": 96,
     "metadata": {},
     "output_type": "execute_result"
    }
   ],
   "source": [
    "conversation.predict(input=\"I'm looking for help with my taxes.\")"
   ]
  },
  {
   "cell_type": "code",
   "execution_count": 86,
   "metadata": {},
   "outputs": [
    {
     "data": {
      "text/plain": [
       "{'ResponseMetadata': {'RequestId': 'JVSOHFAQBQNJ6SC5BKM0TPD0VJVV4KQNSO5AEMVJF66Q9ASUAAJG',\n",
       "  'HTTPStatusCode': 200,\n",
       "  'HTTPHeaders': {'server': 'Server',\n",
       "   'date': 'Wed, 21 Jun 2023 18:19:32 GMT',\n",
       "   'content-type': 'application/x-amz-json-1.0',\n",
       "   'content-length': '2',\n",
       "   'connection': 'keep-alive',\n",
       "   'x-amzn-requestid': 'JVSOHFAQBQNJ6SC5BKM0TPD0VJVV4KQNSO5AEMVJF66Q9ASUAAJG',\n",
       "   'x-amz-crc32': '2745614147'},\n",
       "  'RetryAttempts': 0}}"
      ]
     },
     "execution_count": 86,
     "metadata": {},
     "output_type": "execute_result"
    }
   ],
   "source": [
    "session_table.delete_item(Key={\"SessionId\": session_id})"
   ]
  },
  {
   "cell_type": "code",
   "execution_count": 98,
   "metadata": {},
   "outputs": [
    {
     "data": {
      "text/plain": [
       "[HumanMessage(content='Hello', additional_kwargs={}, example=False),\n",
       " AIMessage(content='Hello there! How can I assist you today?', additional_kwargs={}, example=False),\n",
       " HumanMessage(content='Hello, my name is Adam.', additional_kwargs={}, example=False),\n",
       " AIMessage(content='Nice to meet you, Adam! Is there anything specific you would like me to help you with?', additional_kwargs={}, example=False),\n",
       " HumanMessage(content=\"I'm looking for help with my taxes.\", additional_kwargs={}, example=False),\n",
       " AIMessage(content=\"Of course, Adam! I can definitely help you with that. Do you have any specific questions or concerns about your taxes? It's important to note that I am not a licensed tax professional, but I can provide general information and guidance based on my knowledge and resources.\", additional_kwargs={}, example=False)]"
      ]
     },
     "execution_count": 98,
     "metadata": {},
     "output_type": "execute_result"
    }
   ],
   "source": [
    "conv_memory.chat_memory.messages"
   ]
  },
  {
   "cell_type": "code",
   "execution_count": 104,
   "metadata": {},
   "outputs": [
    {
     "data": {
      "text/plain": [
       "'Adam introduces himself to the AI and the AI offers assistance with his taxes. The AI asks if there is anything specific Adam needs help with and offers general information and guidance based on its knowledge and resources, but notes that it is not a licensed tax professional.'"
      ]
     },
     "execution_count": 104,
     "metadata": {},
     "output_type": "execute_result"
    }
   ],
   "source": [
    "summary_memory.moving_summary_buffer"
   ]
  },
  {
   "cell_type": "code",
   "execution_count": 105,
   "metadata": {},
   "outputs": [
    {
     "data": {
      "text/plain": [
       "{'ResponseMetadata': {'RequestId': '1FNQSL0TLBTB5VU55UI1VT2DSJVV4KQNSO5AEMVJF66Q9ASUAAJG',\n",
       "  'HTTPStatusCode': 200,\n",
       "  'HTTPHeaders': {'server': 'Server',\n",
       "   'date': 'Wed, 21 Jun 2023 20:08:28 GMT',\n",
       "   'content-type': 'application/x-amz-json-1.0',\n",
       "   'content-length': '2',\n",
       "   'connection': 'keep-alive',\n",
       "   'x-amzn-requestid': '1FNQSL0TLBTB5VU55UI1VT2DSJVV4KQNSO5AEMVJF66Q9ASUAAJG',\n",
       "   'x-amz-crc32': '2745614147'},\n",
       "  'RetryAttempts': 0}}"
      ]
     },
     "execution_count": 105,
     "metadata": {},
     "output_type": "execute_result"
    }
   ],
   "source": [
    "summary_table.delete_item(Key={\"SessionId\": \"10\"})\n",
    "session_table.delete_item(Key={\"SessionId\": \"10\"})"
   ]
  }
 ],
 "metadata": {
  "kernelspec": {
   "display_name": "ai-chatbots",
   "language": "python",
   "name": "python3"
  },
  "language_info": {
   "codemirror_mode": {
    "name": "ipython",
    "version": 3
   },
   "file_extension": ".py",
   "mimetype": "text/x-python",
   "name": "python",
   "nbconvert_exporter": "python",
   "pygments_lexer": "ipython3",
   "version": "3.10.11"
  },
  "orig_nbformat": 4
 },
 "nbformat": 4,
 "nbformat_minor": 2
}
