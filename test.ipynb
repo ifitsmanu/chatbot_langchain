{
 "cells": [
  {
   "cell_type": "code",
   "execution_count": 1,
   "metadata": {},
   "outputs": [
    {
     "name": "stdout",
     "output_type": "stream",
     "text": [
      "PROMPT : 1\n",
      "Question :  Hello, my name is Manu.\n",
      "Answer :  \" Hi Manu, my name is AI. It's nice to meet you. What can I do for you today?\"\n",
      "\n",
      "\n",
      "PROMPT : 2\n",
      "Question :  I'm looking for help with my taxes.\n",
      "Answer :  \" Sure, I'd be happy to help you with your taxes. Can you tell me a bit more about what you need help with?\"\n",
      "\n",
      "\n",
      "PROMPT : 3\n",
      "Question :  When are tax filings due for individuals?\n",
      "Answer :  \" Tax filings for individuals are due on April 15th of each year. If you need an extension, you can file for an extension by the due date and the filing deadline will be extended to October 15th.\"\n",
      "\n",
      "\n",
      "PROMPT : 4\n",
      "Question :  What will happen if I don't file my taxes on time?\n",
      "Answer :  \" If you don't file your taxes on time, you may be subject to penalties and interest. The IRS may also file a substitute return for you, which may not reflect all of your deductions and credits. It's best to file your taxes on time to avoid any potential penalties.\"\n",
      "\n",
      "\n",
      "PROMPT : 5\n",
      "Question :  I appreciate your responses.\n",
      "Answer :  \" You're welcome, Manu. Is there anything else I can help you with?\"\n",
      "\n",
      "\n",
      "PROMPT : 6\n",
      "Question :  What color are roses?\n",
      "Answer :  \" Roses come in a variety of colors, including red, pink, white, yellow, and orange.\"\n",
      "\n",
      "\n",
      "PROMPT : 7\n",
      "Question :  How about daisies?\n",
      "Answer :  \" Daisies come in a variety of colors, including white, yellow, pink, and purple.\"\n",
      "\n",
      "\n",
      "PROMPT : 8\n",
      "Question :  And clover?\n",
      "Answer :  \" Clover typically comes in shades of green, but some varieties can also be found in white, pink, and purple.\"\n",
      "\n",
      "\n",
      "PROMPT : 9\n",
      "Question :  Gardenias?\n",
      "Answer :  \" Gardenias come in white, pink, and cream colors.\"\n",
      "\n",
      "\n",
      "PROMPT : 10\n",
      "Question :  Lavender?\n",
      "Answer :  \" Lavender typically comes in shades of purple, but some varieties can also be found in white, pink, and blue.\"\n",
      "\n",
      "\n",
      "PROMPT : 11\n",
      "Question :  Nasturtium?\n",
      "Answer :  \" Nasturtiums come in a variety of colors, including yellow, orange, red, and pink.\"\n",
      "\n",
      "\n",
      "PROMPT : 12\n",
      "Question :  Thanks, what about Chrysanthemum?\n",
      "Answer :  \" Chrysanthemums come in a variety of colors, including white, yellow, pink, purple, and red.\"\n",
      "\n",
      "\n",
      "PROMPT : 13\n",
      "Question :  Orchids?\n",
      "Answer :  \" Orchids come in a variety of colors, including white, pink, purple, yellow, and orange.\"\n",
      "\n",
      "\n",
      "PROMPT : 14\n",
      "Question :  Tulips?\n",
      "Answer :  \" Tulips come in a variety of colors, including red, pink, yellow, white, and purple.\"\n",
      "\n",
      "\n",
      "PROMPT : 15\n",
      "Question :  Carnations?\n",
      "Answer :  \" Carnations come in a variety of colors, including white, pink, red, purple, and yellow.\"\n",
      "\n",
      "\n",
      "PROMPT : 16\n",
      "Question :  Dahlias?\n",
      "Answer :  \" Dahlias come in a variety of colors, including white, pink, red, yellow, and purple.\"\n",
      "\n",
      "\n",
      "PROMPT : 17\n",
      "Question :  Peonies?\n",
      "Answer :  \" Peonies come in a variety of colors, including white, pink, red, yellow, and purple.\"\n",
      "\n",
      "\n",
      "PROMPT : 18\n",
      "Question :  Begonias?\n",
      "Answer :  \" Begonia flowers come in a variety of colors, including white, pink, red, yellow, and orange.\"\n",
      "\n",
      "\n",
      "PROMPT : 19\n",
      "Question :  Gladiolus?\n",
      "Answer :  \" Gladiolus come in a variety of colors, including white, pink, red, yellow, orange, and purple.\"\n",
      "\n",
      "\n",
      "PROMPT : 20\n",
      "Question :  What is my name?\n",
      "Answer :  \" Your name is Manu.\"\n",
      "\n",
      "\n",
      "PROMPT : 21\n",
      "Question :  What topics have we discussed?\n",
      "Answer :  \" We have discussed taxes, roses, daisies, clover, gardenias, lavender, nasturtium, chrysanthemum, orchids, tulips, carnations, dahlias, peonies, begonias, and gladiolus.\"\n",
      "\n",
      "\n"
     ]
    }
   ],
   "source": [
    "import boto3\n",
    "import json\n",
    "\n",
    "prompts = json.load(open(\"prompts.json\"))\n",
    "# connect to lambda and invoke LangChain-OpenAI-ChatBot lambda function\n",
    "\n",
    "client = boto3.client(\"lambda\")\n",
    "session_id = \"test\"\n",
    "# define how many recent conversations to be sent to the OPENAI API\n",
    "num_recent_conversations = 10\n",
    "# define token limit for the summary.\n",
    "summary_token_limit = 200\n",
    "# define temparature\n",
    "temparature = 0.5\n",
    "\n",
    "for i, prompt in enumerate(prompts):\n",
    "    question = prompts[prompt]\n",
    "    payload = {\n",
    "        \"body\": json.dumps(\n",
    "            {\n",
    "                \"question\": question,\n",
    "                \"session_id\": session_id,\n",
    "                \"num_recent_conversations\": num_recent_conversations,\n",
    "                \"summary_token_limit\": summary_token_limit,\n",
    "                \"temparature\": temparature,\n",
    "            }\n",
    "        )\n",
    "    }\n",
    "    response = client.invoke(\n",
    "        FunctionName=\"LangChain-OpenAI-ChatBot\",\n",
    "        InvocationType=\"RequestResponse\",\n",
    "        Payload=json.dumps(payload),\n",
    "    )\n",
    "    response = json.loads(response[\"Payload\"].read())\n",
    "    print(f\"PROMPT : {prompt}\")\n",
    "    print(\"Question : \", question)\n",
    "    print(\"Answer : \", response[\"body\"])\n",
    "    print(\"\\n\")"
   ]
  },
  {
   "cell_type": "code",
   "execution_count": 113,
   "metadata": {},
   "outputs": [
    {
     "name": "stdout",
     "output_type": "stream",
     "text": [
      "PROMPT : 21\n",
      "Question :  Whats my name?\n",
      "Answer :  \" Your name is Manu.\"\n",
      "\n",
      "\n"
     ]
    }
   ],
   "source": [
    "question = \"Whats my name?\"\n",
    "payload = {\n",
    "    \"body\": json.dumps(\n",
    "        {\n",
    "            \"question\": question,\n",
    "            \"session_id\": session_id,\n",
    "            \"num_recent_conversations\": num_recent_conversations,\n",
    "            \"summary_token_limit\": summary_token_limit,\n",
    "            \"temparature\": temparature,\n",
    "        }\n",
    "    )\n",
    "}\n",
    "response = client.invoke(\n",
    "    FunctionName=\"LangChain-OpenAI-ChatBot\",\n",
    "    InvocationType=\"RequestResponse\",\n",
    "    Payload=json.dumps(payload),\n",
    ")\n",
    "response = json.loads(response[\"Payload\"].read())\n",
    "print(f\"PROMPT : {prompt}\")\n",
    "print(\"Question : \", question)\n",
    "print(\"Answer : \", response[\"body\"])\n",
    "print(\"\\n\")"
   ]
  },
  {
   "cell_type": "markdown",
   "metadata": {},
   "source": [
    "# Local Testing\n"
   ]
  },
  {
   "cell_type": "code",
   "execution_count": 3,
   "metadata": {},
   "outputs": [
    {
     "name": "stdout",
     "output_type": "stream",
     "text": [
      "Lambda Function Invoked\n"
     ]
    },
    {
     "data": {
      "text/plain": [
       "{'statusCode': 200,\n",
       " 'body': '\" \\\\n\\\\nThat\\'s a great question! There are so many interesting things out there, it\\'s hard to narrow it down to just 500 words. Let\\'s start with some interesting facts about our planet. Did you know that Earth is the only planet in the solar system that has liquid water on its surface? This is why it\\'s considered the perfect place for life to exist! It\\'s also the only planet in the Solar System that has an atmosphere made up of nitrogen and oxygen.\\\\n\\\\nEarth is filled with incredible natural wonders, from the Grand Canyon to the Great Barrier Reef. It\\'s home to millions of species, from birds and mammals to tiny insects and plants. And it\\'s the only place in the universe where humans have been able to explore and learn about the world around them.\\\\n\\\\nEarth is also the only planet in the Solar System that has a moon. The moon, called Luna, is Earth\\'s closest celestial neighbor. It\\'s a fascinating body of rock that\\'s been studied extensively by scientists. We know that it\\'s responsible for the tides and has a huge effect on our planet\\'s climate.\\\\n\\\\nEarth is also constantly changing due to the forces of nature. Earthquakes, volcanoes, and storms can shape the landscape, while the climate is affected\"'}"
      ]
     },
     "execution_count": 3,
     "metadata": {},
     "output_type": "execute_result"
    }
   ],
   "source": [
    "from src.lambda_function import lambda_handler\n",
    "\n",
    "event = {\n",
    "    \"body\": json.dumps(\n",
    "        {\n",
    "            \"question\": \"Tell me something intresting in 500 words?\",\n",
    "            \"session_id\": \"test\",\n",
    "            \"num_recent_conversations\": 10,\n",
    "            \"summary_token_limit\": 200,\n",
    "            \"temparature\": 0.5,\n",
    "        }\n",
    "    )\n",
    "}\n",
    "\n",
    "lambda_handler(event, None)"
   ]
  },
  {
   "cell_type": "markdown",
   "metadata": {},
   "source": [
    "# Function URL\n"
   ]
  },
  {
   "cell_type": "code",
   "execution_count": 7,
   "metadata": {},
   "outputs": [
    {
     "name": "stdout",
     "output_type": "stream",
     "text": [
      "\" I'm sorry, I don't know the answer to that question. However, I can provide an overview of the steps to make a pizza. Firstly, you will need to prepare the dough. This can be done by combining yeast, sugar, salt, warm water, and flour in a bowl. Secondly, you need to knead the dough for a few minutes. Thirdly, you need to let the dough sit for about 30 minutes, until it's risen. Fourthly, you need to roll out the dough on a lightly floured surface. Lastly, you need to top the pizza with your favorite ingredients and bake it in the oven until the cheese is melted and golden.\"\n"
     ]
    }
   ],
   "source": [
    "import requests\n",
    "\n",
    "url = \"https://bbnwik5ckjsaq6bsw7qz5lwurm0fwuyu.lambda-url.us-east-1.on.aws/\"\n",
    "\n",
    "payload = json.dumps(\n",
    "    {\n",
    "        \"question\": \"Tell me how to make a pizza in 5 lines\",\n",
    "        \"session_id\": \"test\",\n",
    "        \"num_recent_conversations\": 10,\n",
    "        \"summary_token_limit\": 200,\n",
    "        \"temparature\": 0.9,\n",
    "    }\n",
    ")\n",
    "\n",
    "headers = {\"Content-Type\": \"application/json\"}\n",
    "\n",
    "response = requests.request(\"POST\", url, headers=headers, data=payload)\n",
    "\n",
    "print(response.text)"
   ]
  },
  {
   "cell_type": "code",
   "execution_count": null,
   "metadata": {},
   "outputs": [],
   "source": []
  }
 ],
 "metadata": {
  "kernelspec": {
   "display_name": "ai-chatbots",
   "language": "python",
   "name": "python3"
  },
  "language_info": {
   "codemirror_mode": {
    "name": "ipython",
    "version": 3
   },
   "file_extension": ".py",
   "mimetype": "text/x-python",
   "name": "python",
   "nbconvert_exporter": "python",
   "pygments_lexer": "ipython3",
   "version": "3.10.11"
  },
  "orig_nbformat": 4
 },
 "nbformat": 4,
 "nbformat_minor": 2
}
